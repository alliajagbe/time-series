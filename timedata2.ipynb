{
 "cells": [
  {
   "cell_type": "code",
   "execution_count": 2,
   "metadata": {},
   "outputs": [
    {
     "name": "stderr",
     "output_type": "stream",
     "text": [
      "c:\\Users\\Alli Ajagbe\\anaconda3\\lib\\site-packages\\scipy\\__init__.py:146: UserWarning: A NumPy version >=1.16.5 and <1.23.0 is required for this version of SciPy (detected version 1.24.3\n",
      "  warnings.warn(f\"A NumPy version >={np_minversion} and <{np_maxversion}\"\n"
     ]
    }
   ],
   "source": [
    "import os\n",
    "import numpy as np\n",
    "import pandas as pd\n",
    "from scipy import signal as sig\n",
    "import matplotlib\n",
    "import matplotlib.pyplot as plt\n",
    "import xarray as xr"
   ]
  },
  {
   "cell_type": "code",
   "execution_count": 3,
   "metadata": {},
   "outputs": [
    {
     "name": "stdout",
     "output_type": "stream",
     "text": [
      "pr: <xarray.Dataset>\n",
      "Dimensions:  (time: 1428, lon: 144, lat: 72)\n",
      "Coordinates:\n",
      "  * time     (time) datetime64[ns] 1901-01-01 1901-02-01 ... 2019-12-01\n",
      "  * lon      (lon) float32 -178.8 -176.2 -173.8 -171.2 ... 173.8 176.2 178.8\n",
      "  * lat      (lat) float32 -88.75 -86.25 -83.75 -81.25 ... 83.75 86.25 88.75\n",
      "Data variables:\n",
      "    pr       (time, lat, lon) float32 dask.array<chunksize=(12, 72, 144), meta=np.ndarray>\n",
      "Attributes: (12/23)\n",
      "    CDI:                        Climate Data Interface version 1.9.10 (https:...\n",
      "    source:                     Run ID = 2004151855. Data generated from:pre....\n",
      "    institution:                KNMI Climate Explorer and Data held at Britis...\n",
      "    Conventions:                CF-1.0\n",
      "    title:                      CRU TS4.04 Precipitation  averaged over  5x 5...\n",
      "    cdi:                        Climate Data Interface version 1.9.8 (https:/...\n",
      "    ...                         ...\n",
      "    geospatial_lon_resolution:  2.5\n",
      "    climexp_url:                https://climexp.knmi.nl/select.cgi?cru4_pre\n",
      "    time_coverage_start:        1901-01-01 00:00:00\n",
      "    time_coverage_end:          2019-12-01 00:00:00\n",
      "    history:                    Fri Jun 18 08:25:48 2021: cdo -O -splityear /...\n",
      "    CDO:                        Climate Data Operators version 1.9.10 (https:...\n"
     ]
    }
   ],
   "source": [
    "ddir = os.path.join('.','precipitation')\n",
    "pr = xr.open_mfdataset(f'{ddir}/*.nc')\n",
    "print(f'pr: {pr}')"
   ]
  },
  {
   "cell_type": "code",
   "execution_count": 4,
   "metadata": {},
   "outputs": [
    {
     "name": "stdout",
     "output_type": "stream",
     "text": [
      "Dimensions: Frozen({'time': 1428, 'lon': 144, 'lat': 72})\n"
     ]
    }
   ],
   "source": [
    "print(f'Dimensions: {pr.dims}')"
   ]
  },
  {
   "cell_type": "code",
   "execution_count": 5,
   "metadata": {},
   "outputs": [
    {
     "name": "stdout",
     "output_type": "stream",
     "text": [
      "Attributes: {'CDI': 'Climate Data Interface version 1.9.10 (https://mpimet.mpg.de/cdi)', 'source': 'Run ID = 2004151855. Data generated from:pre.2004011744.dtb', 'institution': 'KNMI Climate Explorer and Data held at British Atmospheric Data Centre, RAL, UK.', 'Conventions': 'CF-1.0', 'title': 'CRU TS4.04 Precipitation  averaged over  5x 5 grid boxes', 'cdi': 'Climate Data Interface version 1.9.8 (https://mpimet.mpg.de/cdi)', 'references': 'Information on the data is available at http://badc.nerc.ac.uk/data/cru/', 'comment': 'Access to these data is available to any registered CEDA user.', 'contact': 'support@ceda.ac.uk', 'cdo': 'Climate Data Operators version 1.9.8 (https://mpimet.mpg.de/cdo)', 'geospatial_lat_min': -90.0, 'geospatial_lat_max': 90.0, 'geospatial_lat_units': 'degrees_north', 'geospatial_lon_min': -180.0, 'geospatial_lon_max': 180.0, 'geospatial_lon_units': 'degrees_east', 'geospatial_lat_resolution': 2.5, 'geospatial_lon_resolution': 2.5, 'climexp_url': 'https://climexp.knmi.nl/select.cgi?cru4_pre', 'time_coverage_start': '1901-01-01 00:00:00', 'time_coverage_end': '2019-12-01 00:00:00', 'history': 'Fri Jun 18 08:25:48 2021: cdo -O -splityear /data/public/cdsdata/observations2/tmp/tmpom8ncand.nc /data/public/cdsdata/observations2/CRU_total_precipitation_mon_2.5x2.5_global_\\n2021-06-18 08:25:48.652747: climcrawler v0.1\\nuser oldenbor 2020-05-27 12:56:33 averagefieldspace cru_ts4.04.1901.2019.pre.dat.nc 5 5 cru_ts4.04.1901.2019.pre.dat_25.nc\\\\nWed May 27 12:55:57 2020: cdo -L -r -f nc4 -z zip selvar,pre pre/cru_ts4.04.1901.2019.pre.dat.nc cru_ts4.04.1901.2019.pre.dat.nc\\\\nWed 15 Apr 2020 22:24:10 BST : User ianharris : Program makegridsauto.for called by update.for', 'CDO': 'Climate Data Operators version 1.9.10 (https://mpimet.mpg.de/cdo)'}\n"
     ]
    }
   ],
   "source": [
    "print(f'Attributes: {pr.attrs}')"
   ]
  }
 ],
 "metadata": {
  "kernelspec": {
   "display_name": "base",
   "language": "python",
   "name": "python3"
  },
  "language_info": {
   "codemirror_mode": {
    "name": "ipython",
    "version": 3
   },
   "file_extension": ".py",
   "mimetype": "text/x-python",
   "name": "python",
   "nbconvert_exporter": "python",
   "pygments_lexer": "ipython3",
   "version": "3.9.7"
  },
  "orig_nbformat": 4
 },
 "nbformat": 4,
 "nbformat_minor": 2
}
